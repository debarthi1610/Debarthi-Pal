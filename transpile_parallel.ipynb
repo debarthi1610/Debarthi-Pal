{
 "cells": [
  {
   "cell_type": "markdown",
   "metadata": {},
   "source": [
    "### Saving API Token"
   ]
  },
  {
   "cell_type": "code",
   "execution_count": 5,
   "metadata": {},
   "outputs": [
    {
     "name": "stdout",
     "output_type": "stream",
     "text": [
      "env: QXToken=4425931e3b235a652a9a1473c168110d30705e16ba4b558db7a28f9d80374035982df54daacce62638df28262cec0f033565dea81c861c0528a894f04f152882\n"
     ]
    }
   ],
   "source": [
    "%set_env QXToken=4425931e3b235a652a9a1473c168110d30705e16ba4b558db7a28f9d80374035982df54daacce62638df28262cec0f033565dea81c861c0528a894f04f152882"
   ]
  },
  {
   "cell_type": "markdown",
   "metadata": {},
   "source": [
    "### Imports"
   ]
  },
  {
   "cell_type": "code",
   "execution_count": 6,
   "metadata": {},
   "outputs": [],
   "source": [
    "import numpy as np\n",
    "import matplotlib.pyplot as plt\n",
    "from timeit import default_timer as timer\n",
    "import warnings\n",
    "\n",
    "from qiskit import QuantumCircuit\n",
    "from qiskit.transpiler.preset_passmanagers import generate_preset_pass_manager\n",
    "from qiskit.circuit.random import random_circuit\n",
    "from qiskit.quantum_info import SparsePauliOp\n",
    "from qiskit.circuit.library import TwoLocal, EfficientSU2\n",
    "from qiskit_ibm_runtime import QiskitRuntimeService, Estimator, Session, Options\n",
    "from qiskit_serverless import QiskitFunction, save_result, get_arguments, save_result, distribute_task, distribute_qiskit_function, IBMServerlessClient, QiskitFunction\n",
    "from qiskit.transpiler.preset_passmanagers import generate_preset_pass_manager\n",
    "from qiskit_transpiler_service.transpiler_service import TranspilerService\n",
    "from qiskit_aer import AerSimulator"
   ]
  },
  {
   "cell_type": "markdown",
   "metadata": {},
   "source": [
    "### Define Distributed task function and decorating it"
   ]
  },
  {
   "cell_type": "code",
   "execution_count": null,
   "metadata": {},
   "outputs": [],
   "source": [
    "@distribute_task(target={\"cpu\": 3})                      \n",
    "#The distribute_task decorator transforms a function into a distributed task\n",
    "#allowing it to run on separate compute resources asynchronously and in parallel with the main context.\n",
    "def transpile_parallel(circuit: QuantumCircuit, config):\n",
    "    transpiled_circuit = config.run(circuit)\n",
    "    return transpiled_circuit\n",
    "# Get program arguments\n",
    "arguments = get_arguments()\n",
    "circuits = arguments.get(\"circuits\")\n",
    "backend_name = arguments.get(\"backend_name\")\n",
    "# Start process \n",
    "print(\"Starting timer\")\n",
    "start = timer()\n",
    "\n",
    "# run distributed tasks as async function we get task references as a return type\n",
    "sample_task_references = []\n",
    "for circuit in range(3):\n",
    "    sample_task_references.append([transpile_parallel(circuit, config) for config in configs])\n",
    "\n",
    "\n",
    "# now we need to collect results from task references\n",
    "results = get([task for subtasks in sample_task_references for task in subtasks])\n",
    "\n",
    "end = timer()\n",
    "\n",
    "# Record execution time\n",
    "execution_time_serverless = end-start\n",
    "print(\"Execution time: \", execution_time_serverless)\n",
    "\n",
    "save_result({\n",
    "    \"transpiled_circuits\": results,\n",
    "    \"execution_time\" : execution_time_serverless\n",
    "    \n",
    "})"
   ]
  },
  {
   "cell_type": "markdown",
   "metadata": {},
   "source": [
    "### Defining \"circuits\" to be used in the argument of the function transpile_parallel"
   ]
  },
  {
   "cell_type": "code",
   "execution_count": 7,
   "metadata": {},
   "outputs": [],
   "source": [
    "# Setup 3 circuits with Efficient SU2\n",
    "num_qubits = [40, 50, 60]\n",
    "circuits = [EfficientSU2(nq, su2_gates=[\"rz\",\"ry\"], entanglement=\"circular\", reps=1).decompose() for nq in num_qubits]"
   ]
  },
  {
   "cell_type": "markdown",
   "metadata": {},
   "source": [
    "### Defining Configs to be used as a argument of transpile_parallel"
   ]
  },
  {
   "cell_type": "code",
   "execution_count": null,
   "metadata": {},
   "outputs": [],
   "source": [
    "optimization_levels = [1 ,2, 3]\n",
    "pass_managers = [{'pass_manager': generate_preset_pass_manager(optimization_level=level, backend=backend), 'optimization_level': level} for level in optimization_levels]\n",
    "configs = pass_managers\n"
   ]
  },
  {
   "cell_type": "markdown",
   "metadata": {},
   "source": [
    "### Setup Qiskit Runtime Service backend"
   ]
  },
  {
   "cell_type": "code",
   "execution_count": 8,
   "metadata": {},
   "outputs": [],
   "source": [
    "QiskitRuntimeService.save_account(\n",
    "    channel=\"ibm_quantum\",\n",
    "    token='4425931e3b235a652a9a1473c168110d30705e16ba4b558db7a28f9d80374035982df54daacce62638df28262cec0f033565dea81c861c0528a894f04f152882',\n",
    "    set_as_default=True,\n",
    "    overwrite=True\n",
    ")\n",
    "\n",
    "service = QiskitRuntimeService(channel=\"ibm_quantum\")\n",
    "backend = service.backend(\"ibm_brisbane\")"
   ]
  },
  {
   "cell_type": "code",
   "execution_count": null,
   "metadata": {},
   "outputs": [],
   "source": [
    "from qiskit_ibm_provider import IBMProvider\n",
    "\n",
    "# Load your IBM Quantum account\n",
    "provider = IBMProvider(token='4425931e3b235a652a9a1473c168110d30705e16ba4b558db7a28f9d80374035982df54daacce62638df28262cec0f033565dea81c861c0528a894f04f152882')\n",
    "print(\"IBM Quantum account loaded successfully!\")"
   ]
  },
  {
   "cell_type": "markdown",
   "metadata": {},
   "source": [
    "### For authenticating to the remote cluster and submit the pattern for remote execution"
   ]
  },
  {
   "cell_type": "code",
   "execution_count": null,
   "metadata": {},
   "outputs": [],
   "source": [
    "from qiskit_ibm_catalog import QiskitServerless, QiskitFunction\n",
    "serverless = IBMServerlessClient(\"\")"
   ]
  },
  {
   "cell_type": "markdown",
   "metadata": {},
   "source": [
    "### Initialization of QiskitFunction template below. The file to point is transpile_parallel.ipynb"
   ]
  },
  {
   "cell_type": "code",
   "execution_count": 21,
   "metadata": {},
   "outputs": [],
   "source": [
    "transpile_parallel_function = QiskitFunction(\n",
    "    title=\"transpile_parallel\",\n",
    "    entrypoint=\"transpile_parallel.ipynb\",\n",
    "    working_dir=\"./transpile_parallel\",\n",
    "    dependencies=[\"qiskit-transpiler-service\"]\n",
    ")"
   ]
  },
  {
   "cell_type": "markdown",
   "metadata": {},
   "source": [
    "### Uploading on the serverless"
   ]
  },
  {
   "cell_type": "code",
   "execution_count": null,
   "metadata": {},
   "outputs": [],
   "source": [
    "serverless.upload(transpile_parallel_function)"
   ]
  }
 ],
 "metadata": {
  "kernelspec": {
   "display_name": "optnew",
   "language": "python",
   "name": "python3"
  },
  "language_info": {
   "codemirror_mode": {
    "name": "ipython",
    "version": 3
   },
   "file_extension": ".py",
   "mimetype": "text/x-python",
   "name": "python",
   "nbconvert_exporter": "python",
   "pygments_lexer": "ipython3",
   "version": "3.11.11"
  }
 },
 "nbformat": 4,
 "nbformat_minor": 2
}
